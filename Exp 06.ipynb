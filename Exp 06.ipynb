{
 "cells": [
  {
   "cell_type": "code",
   "execution_count": 1,
   "id": "1595136b",
   "metadata": {},
   "outputs": [],
   "source": [
    "import cv2\n",
    "import matplotlib.pyplot as plt\n",
    "import numpy as np"
   ]
  },
  {
   "cell_type": "code",
   "execution_count": 2,
   "id": "c8b10e33",
   "metadata": {},
   "outputs": [],
   "source": [
    "orig=cv2.imread(\"spyxfamily.jpg\")"
   ]
  },
  {
   "cell_type": "code",
   "execution_count": 3,
   "id": "4dd582b3",
   "metadata": {},
   "outputs": [],
   "source": [
    "kernel=np.ones((11,11),np.float32)/121\n",
    "avg=cv2.filter2D(orig,-1,kernel)\n",
    "cv2.imshow('original image',orig)\n",
    "cv2.imshow('averaging filtered image',avg)\n",
    "cv2.waitKey(0)\n",
    "cv2.destroyAllWindows()"
   ]
  },
  {
   "cell_type": "code",
   "execution_count": 5,
   "id": "3153c895",
   "metadata": {},
   "outputs": [],
   "source": [
    "kernel2=np.array([[1,2,1],[2,4,2],[1,2,1]])/16\n",
    "w_avg=cv2.filter2D(orig,-1,kernel2)\n",
    "cv2.imshow('original image',orig)\n",
    "cv2.imshow('weighted averaging filtered image',w_avg)\n",
    "cv2.waitKey(0)\n",
    "cv2.destroyAllWindows()"
   ]
  },
  {
   "cell_type": "code",
   "execution_count": 6,
   "id": "2725d1aa",
   "metadata": {},
   "outputs": [],
   "source": [
    "gauss=cv2.GaussianBlur(orig,(33,33),0,0)\n",
    "cv2.imshow('original image',orig)\n",
    "cv2.imshow('gaussian blurred image',gauss)\n",
    "cv2.waitKey(0)\n",
    "cv2.destroyAllWindows()"
   ]
  },
  {
   "cell_type": "code",
   "execution_count": 7,
   "id": "a703aef1",
   "metadata": {},
   "outputs": [],
   "source": [
    "median=cv2.medianBlur(orig,13)\n",
    "cv2.imshow('original image',orig)\n",
    "cv2.imshow('median blurred image',median)\n",
    "cv2.waitKey(0)\n",
    "cv2.destroyAllWindows()"
   ]
  },
  {
   "cell_type": "code",
   "execution_count": null,
   "id": "357db1fc",
   "metadata": {},
   "outputs": [],
   "source": []
  },
  {
   "cell_type": "code",
   "execution_count": 9,
   "id": "ba0669ee",
   "metadata": {},
   "outputs": [],
   "source": [
    "kernel3=np.array([[-1,-1,-1],[2,-2,1],[2,1,-1]])\n",
    "lap_k=cv2.filter2D(orig,-1,kernel3)\n",
    "cv2.imshow('original image',orig)\n",
    "cv2.imshow('Laplacian Kernel filtered image',lap_k)\n",
    "cv2.waitKey(0)\n",
    "cv2.destroyAllWindows()"
   ]
  },
  {
   "cell_type": "code",
   "execution_count": 10,
   "id": "14f8a1d7",
   "metadata": {},
   "outputs": [],
   "source": [
    "lap_o=cv2.Laplacian(orig,cv2.CV_64F)\n",
    "cv2.imshow('original image',orig)\n",
    "cv2.imshow('Laplacian Operator filtered image',lap_o)\n",
    "cv2.waitKey(0)\n",
    "cv2.destroyAllWindows()"
   ]
  },
  {
   "cell_type": "code",
   "execution_count": null,
   "id": "ceada354",
   "metadata": {},
   "outputs": [],
   "source": []
  }
 ],
 "metadata": {
  "kernelspec": {
   "display_name": "Python 3 (ipykernel)",
   "language": "python",
   "name": "python3"
  },
  "language_info": {
   "codemirror_mode": {
    "name": "ipython",
    "version": 3
   },
   "file_extension": ".py",
   "mimetype": "text/x-python",
   "name": "python",
   "nbconvert_exporter": "python",
   "pygments_lexer": "ipython3",
   "version": "3.9.13"
  }
 },
 "nbformat": 4,
 "nbformat_minor": 5
}
